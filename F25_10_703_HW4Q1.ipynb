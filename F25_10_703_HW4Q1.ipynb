{
  "nbformat": 4,
  "nbformat_minor": 0,
  "metadata": {
    "colab": {
      "provenance": [],
      "include_colab_link": true
    },
    "kernelspec": {
      "name": "python3",
      "display_name": "Python 3"
    }
  },
  "cells": [
    {
      "cell_type": "markdown",
      "metadata": {
        "id": "view-in-github",
        "colab_type": "text"
      },
      "source": [
        "<a href=\"https://colab.research.google.com/github/LucaZRY/CMU_10703_DeepRL/blob/HW4/F25_10_703_HW4Q1.ipynb\" target=\"_parent\"><img src=\"https://colab.research.google.com/assets/colab-badge.svg\" alt=\"Open In Colab\"/></a>"
      ]
    },
    {
      "cell_type": "markdown",
      "metadata": {
        "id": "OQdKfCKbYqCO"
      },
      "source": [
        "### Setup: Import Dependencies\n",
        "Run the cell below to import the relevant dependencies."
      ]
    },
    {
      "cell_type": "code",
      "metadata": {
        "id": "FChV28AmVSKu"
      },
      "source": [
        "import numpy as np\n",
        "import matplotlib.pyplot as plt\n",
        "import gymnasium as gym\n",
        "import functools"
      ],
      "execution_count": 1,
      "outputs": []
    },
    {
      "cell_type": "markdown",
      "metadata": {
        "id": "WILXO6JzTaQC"
      },
      "source": [
        "### Part 1: CMA-ES\n",
        "Implement CMA-ES below."
      ]
    },
    {
      "cell_type": "code",
      "metadata": {
        "id": "zEIfLn7KTbse"
      },
      "source": [
        "def cmaes(fn, dim, num_iter=10):\n",
        "  \"\"\"Optimizes a given function using CMA-ES.\n",
        "\n",
        "  Args:\n",
        "    fn: A function that takes as input a vector and outputs a scalar value.\n",
        "    dim: (int) The dimension of the vector that fn expects as input.\n",
        "    num_iter: (int) Number of iterations to run CMA-ES.\n",
        "\n",
        "  Returns:\n",
        "    mu_vec: An array of size [num_iter, dim] storing the value of mu at each\n",
        "      iteration.\n",
        "    best_sample_vec: A list of length [num_iter] storing the function value\n",
        "      for the best sample from each iteration of CMA-ES.\n",
        "    mean_sample_vec: A list of length [num_iter] storing the average function\n",
        "      value across samples from each iteration of CMA-ES.\n",
        "  \"\"\"\n",
        "  # Hyperparameters\n",
        "  sigma = 10\n",
        "  population_size = 100\n",
        "  p_keep = 0.10  # Fraction of population to keep\n",
        "  noise = 0.25  # Noise added to covariance to prevent it from going to 0.\n",
        "\n",
        "  # Initialize the mean and covariance\n",
        "  mu = np.zeros(dim)\n",
        "  cov = sigma**2 * np.eye(dim)\n",
        "\n",
        "  mu_vec = []\n",
        "  best_sample_vec = []\n",
        "  mean_sample_vec = []\n",
        "  for t in range(num_iter):\n",
        "    # WRITE CODE HERE\n",
        "    pass\n",
        "\n",
        "  return mu_vec, best_sample_vec, mean_sample_vec"
      ],
      "execution_count": 2,
      "outputs": []
    },
    {
      "cell_type": "markdown",
      "metadata": {
        "id": "4ql_mylUaFEL"
      },
      "source": [
        "In the cell below, we've defined a simply function:\n",
        "$$f(x) = -\\|x - x^*\\|_2^2 \\quad \\text{where} \\quad x^* = [65, 49].$$\n",
        "This function is optimized when $x = x^*$. Run your implementation of CMA-ES on this function, confirming that you get the correct solution."
      ]
    },
    {
      "cell_type": "code",
      "metadata": {
        "id": "yUZ3MSV2VJdP"
      },
      "source": [
        "def test_fn(x):\n",
        "  goal = np.array([65, 49])\n",
        "  return -np.sum((x - goal)**2)\n",
        "\n",
        "mu_vec, best_sample_vec, mean_sample_vec = cmaes(test_fn, dim=2, num_iter=100)"
      ],
      "execution_count": 3,
      "outputs": []
    },
    {
      "cell_type": "markdown",
      "metadata": {
        "id": "v5tRptWHcvLR"
      },
      "source": [
        "Run the following cell to visualize CMA-ES."
      ]
    },
    {
      "cell_type": "code",
      "metadata": {
        "id": "f6YhcWX6bCWP",
        "colab": {
          "base_uri": "https://localhost:8080/",
          "height": 573
        },
        "outputId": "179bb716-f746-40a5-a1ae-ca98950ecc26"
      },
      "source": [
        "x = np.stack(np.meshgrid(np.linspace(-10, 100, 30), np.linspace(-10, 100, 30)), axis=-1)\n",
        "fn_value = [test_fn(xx) for xx in x.reshape((-1, 2))]\n",
        "fn_value = np.array(fn_value).reshape((30, 30))\n",
        "plt.figure(figsize=(6, 4))\n",
        "plt.contourf(x[:, :, 0], x[:, :, 1], fn_value, levels=10)\n",
        "plt.colorbar()\n",
        "mu_vec = np.array(mu_vec)\n",
        "plt.plot(mu_vec[:, 0], mu_vec[:, 1], 'b-o')\n",
        "plt.plot([mu_vec[0, 0]], [mu_vec[0, 1]], 'r+', ms=20, label='initial value')\n",
        "plt.plot([mu_vec[-1, 0]], [mu_vec[-1, 1]], 'g+', ms=20, label='final value')\n",
        "plt.plot([65], [49], 'kx', ms=20, label='maximum')\n",
        "plt.legend()\n",
        "plt.show()"
      ],
      "execution_count": 4,
      "outputs": [
        {
          "output_type": "error",
          "ename": "IndexError",
          "evalue": "too many indices for array: array is 1-dimensional, but 2 were indexed",
          "traceback": [
            "\u001b[0;31m---------------------------------------------------------------------------\u001b[0m",
            "\u001b[0;31mIndexError\u001b[0m                                Traceback (most recent call last)",
            "\u001b[0;32m/tmp/ipython-input-2713803763.py\u001b[0m in \u001b[0;36m<cell line: 0>\u001b[0;34m()\u001b[0m\n\u001b[1;32m      6\u001b[0m \u001b[0mplt\u001b[0m\u001b[0;34m.\u001b[0m\u001b[0mcolorbar\u001b[0m\u001b[0;34m(\u001b[0m\u001b[0;34m)\u001b[0m\u001b[0;34m\u001b[0m\u001b[0;34m\u001b[0m\u001b[0m\n\u001b[1;32m      7\u001b[0m \u001b[0mmu_vec\u001b[0m \u001b[0;34m=\u001b[0m \u001b[0mnp\u001b[0m\u001b[0;34m.\u001b[0m\u001b[0marray\u001b[0m\u001b[0;34m(\u001b[0m\u001b[0mmu_vec\u001b[0m\u001b[0;34m)\u001b[0m\u001b[0;34m\u001b[0m\u001b[0;34m\u001b[0m\u001b[0m\n\u001b[0;32m----> 8\u001b[0;31m \u001b[0mplt\u001b[0m\u001b[0;34m.\u001b[0m\u001b[0mplot\u001b[0m\u001b[0;34m(\u001b[0m\u001b[0mmu_vec\u001b[0m\u001b[0;34m[\u001b[0m\u001b[0;34m:\u001b[0m\u001b[0;34m,\u001b[0m \u001b[0;36m0\u001b[0m\u001b[0;34m]\u001b[0m\u001b[0;34m,\u001b[0m \u001b[0mmu_vec\u001b[0m\u001b[0;34m[\u001b[0m\u001b[0;34m:\u001b[0m\u001b[0;34m,\u001b[0m \u001b[0;36m1\u001b[0m\u001b[0;34m]\u001b[0m\u001b[0;34m,\u001b[0m \u001b[0;34m'b-o'\u001b[0m\u001b[0;34m)\u001b[0m\u001b[0;34m\u001b[0m\u001b[0;34m\u001b[0m\u001b[0m\n\u001b[0m\u001b[1;32m      9\u001b[0m \u001b[0mplt\u001b[0m\u001b[0;34m.\u001b[0m\u001b[0mplot\u001b[0m\u001b[0;34m(\u001b[0m\u001b[0;34m[\u001b[0m\u001b[0mmu_vec\u001b[0m\u001b[0;34m[\u001b[0m\u001b[0;36m0\u001b[0m\u001b[0;34m,\u001b[0m \u001b[0;36m0\u001b[0m\u001b[0;34m]\u001b[0m\u001b[0;34m]\u001b[0m\u001b[0;34m,\u001b[0m \u001b[0;34m[\u001b[0m\u001b[0mmu_vec\u001b[0m\u001b[0;34m[\u001b[0m\u001b[0;36m0\u001b[0m\u001b[0;34m,\u001b[0m \u001b[0;36m1\u001b[0m\u001b[0;34m]\u001b[0m\u001b[0;34m]\u001b[0m\u001b[0;34m,\u001b[0m \u001b[0;34m'r+'\u001b[0m\u001b[0;34m,\u001b[0m \u001b[0mms\u001b[0m\u001b[0;34m=\u001b[0m\u001b[0;36m20\u001b[0m\u001b[0;34m,\u001b[0m \u001b[0mlabel\u001b[0m\u001b[0;34m=\u001b[0m\u001b[0;34m'initial value'\u001b[0m\u001b[0;34m)\u001b[0m\u001b[0;34m\u001b[0m\u001b[0;34m\u001b[0m\u001b[0m\n\u001b[1;32m     10\u001b[0m \u001b[0mplt\u001b[0m\u001b[0;34m.\u001b[0m\u001b[0mplot\u001b[0m\u001b[0;34m(\u001b[0m\u001b[0;34m[\u001b[0m\u001b[0mmu_vec\u001b[0m\u001b[0;34m[\u001b[0m\u001b[0;34m-\u001b[0m\u001b[0;36m1\u001b[0m\u001b[0;34m,\u001b[0m \u001b[0;36m0\u001b[0m\u001b[0;34m]\u001b[0m\u001b[0;34m]\u001b[0m\u001b[0;34m,\u001b[0m \u001b[0;34m[\u001b[0m\u001b[0mmu_vec\u001b[0m\u001b[0;34m[\u001b[0m\u001b[0;34m-\u001b[0m\u001b[0;36m1\u001b[0m\u001b[0;34m,\u001b[0m \u001b[0;36m1\u001b[0m\u001b[0;34m]\u001b[0m\u001b[0;34m]\u001b[0m\u001b[0;34m,\u001b[0m \u001b[0;34m'g+'\u001b[0m\u001b[0;34m,\u001b[0m \u001b[0mms\u001b[0m\u001b[0;34m=\u001b[0m\u001b[0;36m20\u001b[0m\u001b[0;34m,\u001b[0m \u001b[0mlabel\u001b[0m\u001b[0;34m=\u001b[0m\u001b[0;34m'final value'\u001b[0m\u001b[0;34m)\u001b[0m\u001b[0;34m\u001b[0m\u001b[0;34m\u001b[0m\u001b[0m\n",
            "\u001b[0;31mIndexError\u001b[0m: too many indices for array: array is 1-dimensional, but 2 were indexed"
          ]
        },
        {
          "output_type": "display_data",
          "data": {
            "text/plain": [
              "<Figure size 600x400 with 2 Axes>"
            ],
            "image/png": "[encoded data removed]"
          },
          "metadata": {}
        }
      ]
    },
    {
      "cell_type": "markdown",
      "metadata": {
        "id": "8g30ba1xc4LN"
      },
      "source": [
        "Next, you will apply CMA-ES to a more complicating: maximizing the expected reward of a RL agent. The policy takes action LEFT with probability:\n",
        "$$\\pi(a = \\text{LEFT} \\mid s) = s \\cdot w + b,$$\n",
        "where $w \\in \\mathbb{R}^4$ and $b \\in \\mathbb{R}$ are parameters that you will optimize with CMA-ES. In the cell below, define a function that takes as input a single vector $x = (w, b)$ and the environment and returns the total (undiscounted) reward from one episode."
      ]
    },
    {
      "cell_type": "code",
      "metadata": {
        "id": "sWq9HYaTVuuF"
      },
      "source": [
        "def _sigmoid(x):\n",
        "  return 1 / (1 + np.exp(-x))\n",
        "\n",
        "def _get_action(s, params):\n",
        "  w = params[:4]\n",
        "  b = params[4]\n",
        "  p_left = _sigmoid(w @ s + b)\n",
        "  a = np.random.choice(2, p=[p_left, 1 - p_left])\n",
        "  return a\n",
        "\n",
        "def rl_fn(params, env):\n",
        "  assert len(params) == 5\n",
        "  ## WRITE CODE HERE\n",
        "  obs, _ = env.reset()\n",
        "  done, truncated = False, False\n",
        "  total_rewards = 0.0\n",
        "  while not done and not truncated:\n",
        "    a = _get_action(obs, params)\n",
        "    obs, r, done, truncated, _ = env.step(a)\n",
        "    total_rewards += r\n",
        "  return total_rewards"
      ],
      "execution_count": 5,
      "outputs": []
    },
    {
      "cell_type": "markdown",
      "metadata": {
        "id": "hLis8GoXeKg6"
      },
      "source": [
        "The cell below applies your CMA-ES implementation to the RL objective you've defined in the cell above."
      ]
    },
    {
      "cell_type": "code",
      "metadata": {
        "id": "nuHlGZaEX48n",
        "colab": {
          "base_uri": "https://localhost:8080/"
        },
        "outputId": "b641fbf5-0ae0-4fa6-c20a-10297440eb10"
      },
      "source": [
        "env = gym.make('CartPole-v0')\n",
        "fn_with_env = functools.partial(rl_fn, env=env)\n",
        "mu_vec, best_sample_vec, mean_sample_vec = cmaes(fn_with_env, dim=5, num_iter=10)"
      ],
      "execution_count": 6,
      "outputs": [
        {
          "output_type": "stream",
          "name": "stderr",
          "text": [
            "/usr/local/lib/python3.12/dist-packages/gymnasium/envs/registration.py:512: DeprecationWarning: \u001b[33mWARN: The environment CartPole-v0 is out of date. You should consider upgrading to version `v1`.\u001b[0m\n",
            "  logger.deprecation(\n"
          ]
        }
      ]
    },
    {
      "cell_type": "code",
      "source": [],
      "metadata": {
        "id": "pEoIFTFvvyvk"
      },
      "execution_count": null,
      "outputs": []
    }
  ]
}